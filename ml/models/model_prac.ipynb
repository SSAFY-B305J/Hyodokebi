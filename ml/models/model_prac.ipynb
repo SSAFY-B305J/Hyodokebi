{
 "cells": [
  {
   "cell_type": "code",
   "execution_count": 1,
   "id": "be570875-a8f0-4514-9b5f-7b7928274cd2",
   "metadata": {},
   "outputs": [],
   "source": [
    "import pandas as pd\n",
    "import numpy as np\n",
    "from sklearn.metrics import mean_squared_error"
   ]
  },
  {
   "cell_type": "code",
   "execution_count": 2,
   "id": "76b64819-2dd8-43c7-a633-d2aa06d1a4d4",
   "metadata": {},
   "outputs": [],
   "source": [
    "# 모델 관련 함수 정의"
   ]
  },
  {
   "cell_type": "code",
   "execution_count": 3,
   "id": "232f0efe-f6da-4030-908a-c92afdf2563e",
   "metadata": {},
   "outputs": [],
   "source": [
    "# 변수 상수 저장\n",
    "PREDICT_USER = 89\n",
    "SELECT_N_MENU = 10\n",
    "K_VALUE = 52"
   ]
  },
  {
   "cell_type": "code",
   "execution_count": 4,
   "id": "6d9a79a7-a6e6-4910-a42e-79dd04d3938b",
   "metadata": {},
   "outputs": [],
   "source": [
    "# 실제 R 행렬과 예측 행렬의 오차를 구하는 함수\n",
    "def calculate_rmse(R, P, Q, non_zeros):\n",
    "    error = 0\n",
    "\n",
    "    full_pred_matrix = np.dot(P, Q.T)\n",
    "\n",
    "    # 여기서 non_zeros는 아래 함수에서 확인할 수 있다.\n",
    "    x_non_zero_ind = [non_zeros[0] for non_zeros in non_zeros]\n",
    "    y_non_zero_ind = [non_zeros[1] for non_zeros in non_zeros]\n",
    "\n",
    "    # 원 행렬 R에서 0이 아닌 값들만 추출한다.\n",
    "    R_non_zeros = R[x_non_zero_ind, y_non_zero_ind]\n",
    "\n",
    "    # 예측 행렬에서 원 행렬 R에서 0이 아닌 위치의 값들만 추출하여 저장한다.\n",
    "    full_pred_matrix_non_zeros = full_pred_matrix[x_non_zero_ind, y_non_zero_ind]\n",
    "\n",
    "    mse = mean_squared_error(R_non_zeros, full_pred_matrix_non_zeros)\n",
    "    rmse = np.sqrt(mse)\n",
    "\n",
    "    return rmse\n",
    "\n",
    "# 행렬분해하는 함수\n",
    "def matrix_factorization(R, K, steps=200, learning_rate=0.01, r_lambda=0.01):\n",
    "    num_users, num_items = R.shape\n",
    "\n",
    "    np.random.seed(1)\n",
    "    P = np.random.normal(scale=1.0/K, size=(num_users, K))\n",
    "    Q = np.random.normal(scale=1.0/K, size=(num_items, K))\n",
    "    \n",
    "    # R>0인 행 위치, 열 위치, 값을 non_zeros 리스트에 저장한다.\n",
    "    non_zeros = [ (i, j, R[i, j]) for i in range(num_users)\n",
    "                  for j in range(num_items) if R[i, j] > 0 ]\n",
    "\n",
    "    # SGD 기법으로 P, Q 매트릭스를 업데이트 함\n",
    "    for step in range(steps):\n",
    "        for i, j, r in non_zeros:\n",
    "            # 잔차 구함\n",
    "            eij = r - np.dot(P[i, :], Q[j, :].T)\n",
    "\n",
    "            # Regulation을 반영한 SGD 업데이터 적용\n",
    "            P[i, :] = P[i, :] + learning_rate*(eij * Q[j, :] - r_lambda*P[i, :])\n",
    "            Q[j, :] = Q[j, :] + learning_rate*(eij * P[i, :] - r_lambda*Q[j, :])\n",
    "\n",
    "        rmse = calculate_rmse(R, P, Q, non_zeros)\n",
    "        if step % 10 == 0:\n",
    "            print(\"iter step: {0}, rmse: {1:4f}\".format(step, rmse))\n",
    "\n",
    "    return P, Q\n",
    "\n",
    "# 예측 확률 구하기\n",
    "def predict(P, Q):\n",
    "    return np.dot(P, Q.T)\n",
    "\n",
    "# 에측결과를 토대로 메뉴 선택하기\n",
    "def predicted_menu(predicted, userNo, nMenu):\n",
    "    user_like_menu = predicted[userNo-1].copy();\n",
    "    predicted_name = []\n",
    "    print(user_like_menu)\n",
    "    for i in range(0,nMenu):\n",
    "        max_idx = np.argmax(user_like_menu)\n",
    "        if user_like_menu[max_idx] < 0 or user_like_menu[max_idx] == 0 : break\n",
    "        predicted_name += [user_info.columns[max_idx]]\n",
    "        # print(i, \" : \", user_info.columns[max_idx])\n",
    "        user_like_menu[max_idx] = 0\n",
    "    return predicted_name"
   ]
  },
  {
   "cell_type": "code",
   "execution_count": null,
   "id": "9637f289-6fdd-4a5f-b1bd-69eb25a11196",
   "metadata": {},
   "outputs": [],
   "source": []
  },
  {
   "cell_type": "code",
   "execution_count": 5,
   "id": "2e383b3a-0756-4c58-885f-6732d8932e14",
   "metadata": {},
   "outputs": [],
   "source": [
    "# 데이터 불러오기"
   ]
  },
  {
   "cell_type": "code",
   "execution_count": 6,
   "id": "04c3e858-159a-4490-9957-90e7ae00b313",
   "metadata": {},
   "outputs": [],
   "source": [
    "excel_file_path = './data/dataTmp.xlsx'\n",
    "\n",
    "# 엑셀 파일의 각 시트를 다른 변수에 저장\n",
    "menu_info = pd.read_excel(excel_file_path, sheet_name='Sheet1', header = 0, index_col = 0)\n",
    "user_info = pd.read_excel(excel_file_path, sheet_name='Sheet2', header = 0, index_col = 0)\n",
    "\n",
    "# 각 시트 데이터 확인\n",
    "# print(\"Sheet1 데이터:\")\n",
    "# print(menu_info.head())\n",
    "\n",
    "# print(\"\\nSheet2 데이터:\")\n",
    "# print(user_info.head())"
   ]
  },
  {
   "cell_type": "code",
   "execution_count": 7,
   "id": "ac680113-ebb7-4308-9bd2-cdc748878cde",
   "metadata": {},
   "outputs": [],
   "source": [
    "# print제한 없애기\n",
    "pd.set_option('display.max_seq_items', None)\n",
    "pd.set_option('display.max_rows', None)\n",
    "pd.set_option('display.max_columns', None)"
   ]
  },
  {
   "cell_type": "code",
   "execution_count": 8,
   "id": "f32a6e80-d5c6-4f63-9d18-ed02cfe74ee2",
   "metadata": {},
   "outputs": [
    {
     "name": "stderr",
     "output_type": "stream",
     "text": [
      "C:\\Users\\SSAFY\\AppData\\Local\\Temp\\ipykernel_2476\\1496098848.py:2: UserWarning: Pandas doesn't allow columns to be created via a new attribute name - see https://pandas.pydata.org/pandas-docs/stable/indexing.html#attribute-access\n",
      "  user_info.arr = user_info.to_numpy()\n"
     ]
    }
   ],
   "source": [
    "# 사용자 - 메뉴 정보가 저장된 데이터프레임 배열로 바꾸기\n",
    "user_info.arr = user_info.to_numpy()"
   ]
  },
  {
   "cell_type": "code",
   "execution_count": 9,
   "id": "0aec96b9-0cd1-4410-80b4-f72011e4af40",
   "metadata": {},
   "outputs": [],
   "source": [
    "### 사용자 - 선호메뉴 데이터를 통한 매뉴 추천"
   ]
  },
  {
   "cell_type": "code",
   "execution_count": null,
   "id": "d3a60922-ffc2-4ab1-915e-cf8ec8587c2e",
   "metadata": {},
   "outputs": [],
   "source": []
  },
  {
   "cell_type": "code",
   "execution_count": 10,
   "id": "9d8148d5-d39f-432c-9a28-6822fbe9740a",
   "metadata": {},
   "outputs": [
    {
     "name": "stdout",
     "output_type": "stream",
     "text": [
      "iter step: 0, rmse: 0.999499\n",
      "iter step: 10, rmse: 0.991292\n",
      "iter step: 20, rmse: 0.910213\n",
      "iter step: 30, rmse: 0.500667\n",
      "iter step: 40, rmse: 0.184473\n",
      "iter step: 50, rmse: 0.072086\n",
      "iter step: 60, rmse: 0.035142\n",
      "iter step: 70, rmse: 0.024153\n",
      "iter step: 80, rmse: 0.020915\n",
      "iter step: 90, rmse: 0.019772\n",
      "iter step: 100, rmse: 0.019226\n",
      "iter step: 110, rmse: 0.018873\n",
      "iter step: 120, rmse: 0.018592\n",
      "iter step: 130, rmse: 0.018344\n",
      "iter step: 140, rmse: 0.018113\n",
      "iter step: 150, rmse: 0.017896\n",
      "iter step: 160, rmse: 0.017688\n",
      "iter step: 170, rmse: 0.017489\n",
      "iter step: 180, rmse: 0.017298\n",
      "iter step: 190, rmse: 0.017114\n"
     ]
    }
   ],
   "source": [
    "P, Q = matrix_factorization(user_info.arr, K=K_VALUE)\n",
    "predicted_R = predict(P,Q)"
   ]
  },
  {
   "cell_type": "code",
   "execution_count": 11,
   "id": "5b9a54d8-4fc6-4058-ac69-8aabcac7b7db",
   "metadata": {},
   "outputs": [
    {
     "name": "stdout",
     "output_type": "stream",
     "text": [
      "(90, 14)\n"
     ]
    }
   ],
   "source": [
    "print(predicted_R.shape)"
   ]
  },
  {
   "cell_type": "code",
   "execution_count": 12,
   "id": "d504ef02-864c-4813-a932-845f0ba78472",
   "metadata": {},
   "outputs": [
    {
     "name": "stdout",
     "output_type": "stream",
     "text": [
      "[ 0.98645624  0.91595497  0.97084806  0.94144697  0.93262721  0.97235441\n",
      "  0.96748949  0.98432651  0.92732028  0.93158309 -0.0012861   0.0038446\n",
      " -0.00538655 -0.01091095]\n",
      "['바지락칼국수', '고등어구이', '샤부샤부', '해물찜', '김치찌개', '초밥', '돈가스', '짜장면', '햄버거', '떡볶이']\n"
     ]
    }
   ],
   "source": [
    "predict_menu = predicted_menu(predicted_R, PREDICT_USER, SELECT_N_MENU)\n",
    "print(predict_menu)"
   ]
  },
  {
   "cell_type": "code",
   "execution_count": 13,
   "id": "9e21b849-0044-42c9-95ca-a14abee1af8f",
   "metadata": {},
   "outputs": [
    {
     "name": "stdout",
     "output_type": "stream",
     "text": [
      "해물찜\n",
      "돈가스\n",
      "샤부샤부\n",
      "햄버거\n",
      "짜장면\n"
     ]
    }
   ],
   "source": [
    "for i in range(0, user_info.shape[1]):\n",
    "    if user_info.iloc[9,i] == 1 :\n",
    "        print(user_info.columns[i])"
   ]
  },
  {
   "cell_type": "code",
   "execution_count": null,
   "id": "fddf8c3a-9b7f-4425-99ff-da7d8b677612",
   "metadata": {},
   "outputs": [],
   "source": []
  },
  {
   "cell_type": "code",
   "execution_count": null,
   "id": "3cc86223-e3bb-43aa-a723-57003269dc71",
   "metadata": {},
   "outputs": [],
   "source": []
  },
  {
   "cell_type": "code",
   "execution_count": 14,
   "id": "15d2383f-11ae-412d-b74e-71208bea7995",
   "metadata": {},
   "outputs": [],
   "source": [
    "## 사용자 - 재료, 재료 - 선호메뉴 기반 메뉴 추천"
   ]
  },
  {
   "cell_type": "code",
   "execution_count": 15,
   "id": "6ae8cd50-31d3-4e83-b0ed-9dfde981d3f6",
   "metadata": {},
   "outputs": [],
   "source": [
    "user_igd_info = pd.DataFrame(0, index=[f\"User{i+1}\" for i in range(0, user_info.shape[0])], columns=[f\"{i}\" for i in menu_info.columns])"
   ]
  },
  {
   "cell_type": "code",
   "execution_count": 16,
   "id": "9923382c-c6c3-429e-b928-8949c7d3726e",
   "metadata": {},
   "outputs": [],
   "source": [
    "for row in range(0,user_info.shape[0]):\n",
    "    for col in range(0, user_info.shape[1]):\n",
    "        if user_info.iloc[row,col] > 0:\n",
    "            for igdIdx in range(0, menu_info.shape[1]):\n",
    "                if menu_info.iloc[col,igdIdx] > 0:\n",
    "                    # user_igd_info.iloc[row, igdIdx] += menu_info.iloc[col,igdIdx]\n",
    "                    user_igd_info.iloc[row, igdIdx] += 1\n",
    "\n",
    "#print(user_igd_info)"
   ]
  },
  {
   "cell_type": "code",
   "execution_count": 17,
   "id": "23c672cf-4ae5-464e-b388-bbfa3bc9ab4e",
   "metadata": {},
   "outputs": [
    {
     "name": "stderr",
     "output_type": "stream",
     "text": [
      "C:\\Users\\SSAFY\\AppData\\Local\\Temp\\ipykernel_2476\\932039606.py:1: UserWarning: Pandas doesn't allow columns to be created via a new attribute name - see https://pandas.pydata.org/pandas-docs/stable/indexing.html#attribute-access\n",
      "  user_igd_info.arr = user_igd_info.to_numpy()\n",
      "C:\\Users\\SSAFY\\AppData\\Local\\Temp\\ipykernel_2476\\932039606.py:2: UserWarning: Pandas doesn't allow columns to be created via a new attribute name - see https://pandas.pydata.org/pandas-docs/stable/indexing.html#attribute-access\n",
      "  menu_info.arr = menu_info.to_numpy()\n"
     ]
    }
   ],
   "source": [
    "user_igd_info.arr = user_igd_info.to_numpy()\n",
    "menu_info.arr = menu_info.to_numpy()"
   ]
  },
  {
   "cell_type": "code",
   "execution_count": 18,
   "id": "f45a5c64-0df7-4507-91f2-fc5a95a40386",
   "metadata": {},
   "outputs": [],
   "source": [
    "predicted_R_V2 = predict(user_igd_info.arr,menu_info.arr)"
   ]
  },
  {
   "cell_type": "code",
   "execution_count": 19,
   "id": "a26dbb41-4015-4737-816e-2fe8a09686ce",
   "metadata": {},
   "outputs": [
    {
     "name": "stdout",
     "output_type": "stream",
     "text": [
      "[23  4 19 11  0 26  7 17  3  4  7  6  6 19]\n"
     ]
    }
   ],
   "source": [
    "predict_menu_V2 = predicted_menu(predicted_R_V2, PREDICT_USER, SELECT_N_MENU)"
   ]
  },
  {
   "cell_type": "code",
   "execution_count": 20,
   "id": "63429ea6-370f-4ed2-8c20-f8d9f3f6a912",
   "metadata": {},
   "outputs": [
    {
     "name": "stdout",
     "output_type": "stream",
     "text": [
      "해물찜\n",
      "돈가스\n",
      "샤부샤부\n",
      "햄버거\n",
      "짜장면\n"
     ]
    }
   ],
   "source": [
    "for i in range(0, user_info.shape[1]):\n",
    "    if user_info.iloc[9,i] == 1 :\n",
    "        print(user_info.columns[i])"
   ]
  },
  {
   "cell_type": "code",
   "execution_count": 21,
   "id": "1051f97b-3b0c-46b3-929b-448bdbdba817",
   "metadata": {},
   "outputs": [
    {
     "name": "stdout",
     "output_type": "stream",
     "text": [
      "(90, 52)\n",
      "(14, 52)\n"
     ]
    }
   ],
   "source": [
    "print(user_igd_info.arr.shape)\n",
    "print(menu_info.arr.shape)"
   ]
  },
  {
   "cell_type": "code",
   "execution_count": 22,
   "id": "9f1df2f7-e20a-433d-b0e8-1b24c451b13f",
   "metadata": {},
   "outputs": [],
   "source": [
    "# 내가 먼저 분해해놓고 활용하기\n",
    "def predict_V3(R, P_tmp, Q_tmp, steps=200, learning_rate=0.01, r_lambda=0.01):\n",
    "    \n",
    "    num_users, num_items = R.shape\n",
    "    \n",
    "    P = P_tmp.copy() * 0.1\n",
    "    Q = Q_tmp.copy() * 0.1\n",
    "    \n",
    "    # R>0인 행 위치, 열 위치, 값을 non_zeros 리스트에 저장한다.\n",
    "    non_zeros = [ (i, j, R[i, j]) for i in range(num_users)\n",
    "                  for j in range(num_items) if R[i, j] > 0 ]\n",
    "    \n",
    "    # SGD 기법으로 P, Q 매트릭스를 업데이트 함\n",
    "    for step in range(steps):\n",
    "        for i, j, r in non_zeros:\n",
    "            # 잔차 구함\n",
    "            eij = r - np.dot(P[i, :], Q[j, :].T)\n",
    "    \n",
    "            # Regulation을 반영한 SGD 업데이터 적용\n",
    "            P[i, :] = P[i, :] + learning_rate*(eij * Q[j, :] - r_lambda*P[i, :])\n",
    "            Q[j, :] = Q[j, :] + learning_rate*(eij * P[i, :] - r_lambda*Q[j, :])\n",
    "    \n",
    "        rmse = calculate_rmse(R, P, Q, non_zeros)\n",
    "        if step % 10 == 0:\n",
    "            print(\"iter step: {0}, rmse: {1:4f}\".format(step, rmse))\n",
    "\n",
    "    return np.dot(P, Q.T)"
   ]
  },
  {
   "cell_type": "code",
   "execution_count": 23,
   "id": "5ea44dd4-48e1-4556-9d71-11b9509c4617",
   "metadata": {},
   "outputs": [
    {
     "name": "stdout",
     "output_type": "stream",
     "text": [
      "iter step: 0, rmse: 0.599789\n",
      "iter step: 10, rmse: 0.232762\n",
      "iter step: 20, rmse: 0.135344\n",
      "iter step: 30, rmse: 0.081759\n",
      "iter step: 40, rmse: 0.053855\n",
      "iter step: 50, rmse: 0.039520\n",
      "iter step: 60, rmse: 0.031849\n",
      "iter step: 70, rmse: 0.027385\n",
      "iter step: 80, rmse: 0.024521\n",
      "iter step: 90, rmse: 0.022524\n",
      "iter step: 100, rmse: 0.021046\n",
      "iter step: 110, rmse: 0.019905\n",
      "iter step: 120, rmse: 0.018999\n",
      "iter step: 130, rmse: 0.018266\n",
      "iter step: 140, rmse: 0.017663\n",
      "iter step: 150, rmse: 0.017160\n",
      "iter step: 160, rmse: 0.016737\n",
      "iter step: 170, rmse: 0.016375\n",
      "iter step: 180, rmse: 0.016064\n",
      "iter step: 190, rmse: 0.015793\n"
     ]
    }
   ],
   "source": [
    "predicted_R_V3 = predict_V3(user_info.arr, user_igd_info.arr, menu_info.arr)"
   ]
  },
  {
   "cell_type": "code",
   "execution_count": 24,
   "id": "151c1e60-0e6d-4ff5-8d02-45a34f828775",
   "metadata": {
    "scrolled": true
   },
   "outputs": [
    {
     "name": "stdout",
     "output_type": "stream",
     "text": [
      "[0.99078898 0.67647738 0.83876249 0.71327639 0.66727469 0.97207256\n",
      " 0.73664456 0.98346127 0.6745263  0.71378513 0.13243733 0.11887211\n",
      " 0.11895094 0.35304648]\n",
      "['바지락칼국수', '고등어구이', '샤부샤부', '해물찜', '김치찌개', '짜장면', '초밥', '떡볶이', '햄버거', '돈가스']\n",
      "['샤부샤부', '바지락칼국수', '해물찜', '어쨌든해물음식', '고등어구이', '초밥', '김치찌개', '치킨', '삼겹살', '돼지갈비']\n"
     ]
    }
   ],
   "source": [
    "predict_menu_V3 = predicted_menu(predicted_R_V3, PREDICT_USER, SELECT_N_MENU)\n",
    "print(predict_menu_V3)\n",
    "print(predict_menu_V2)"
   ]
  },
  {
   "cell_type": "code",
   "execution_count": 25,
   "id": "b9ef1225-5832-45c5-982c-33d2623dc7ae",
   "metadata": {},
   "outputs": [
    {
     "name": "stdout",
     "output_type": "stream",
     "text": [
      "User89\n",
      "바지락칼국수\n",
      "샤부샤부\n",
      "고등어구이\n"
     ]
    }
   ],
   "source": [
    "print(user_info.index[PREDICT_USER-1])\n",
    "for i in range(0, user_info.shape[1]):\n",
    "    if user_info.iloc[PREDICT_USER-1,i] == 1 :\n",
    "        print(user_info.columns[i])"
   ]
  },
  {
   "cell_type": "code",
   "execution_count": null,
   "id": "09327450-031b-4a1e-8a43-6bcbc25b2e71",
   "metadata": {},
   "outputs": [],
   "source": []
  },
  {
   "cell_type": "code",
   "execution_count": 33,
   "id": "0997b37e-2ee5-45c0-8072-5ac751a1a9a3",
   "metadata": {},
   "outputs": [
    {
     "name": "stdout",
     "output_type": "stream",
     "text": [
      "['바지락칼국수', '고등어구이', '샤부샤부', '해물찜', '김치찌개', '초밥', '돈가스', '짜장면', '햄버거', '떡볶이']\n",
      "['샤부샤부', '바지락칼국수', '해물찜', '어쨌든해물음식', '고등어구이', '초밥', '김치찌개', '치킨', '삼겹살', '돼지갈비']\n",
      "['바지락칼국수', '고등어구이', '샤부샤부', '해물찜', '김치찌개', '짜장면', '초밥', '떡볶이', '햄버거', '돈가스']\n"
     ]
    }
   ],
   "source": [
    "print(predict_menu)\n",
    "print(predict_menu_V2)\n",
    "print(predict_menu_V3)"
   ]
  },
  {
   "cell_type": "code",
   "execution_count": 34,
   "id": "a1d7c156-2874-42c9-8c3a-d31118110a33",
   "metadata": {},
   "outputs": [
    {
     "name": "stdout",
     "output_type": "stream",
     "text": [
      "바지락칼국수\n",
      "샤부샤부\n",
      "고등어구이\n"
     ]
    }
   ],
   "source": [
    "for i in range(0, user_info.shape[1]):\n",
    "    if user_info.iloc[PREDICT_USER-1,i] == 1 :\n",
    "        print(user_info.columns[i])"
   ]
  }
 ],
 "metadata": {
  "kernelspec": {
   "display_name": "Python 3 (ipykernel)",
   "language": "python",
   "name": "python3"
  },
  "language_info": {
   "codemirror_mode": {
    "name": "ipython",
    "version": 3
   },
   "file_extension": ".py",
   "mimetype": "text/x-python",
   "name": "python",
   "nbconvert_exporter": "python",
   "pygments_lexer": "ipython3",
   "version": "3.11.8"
  }
 },
 "nbformat": 4,
 "nbformat_minor": 5
}
