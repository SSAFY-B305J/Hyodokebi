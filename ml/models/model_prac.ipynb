{
 "cells": [
  {
   "cell_type": "code",
   "execution_count": 1,
   "id": "be570875-a8f0-4514-9b5f-7b7928274cd2",
   "metadata": {},
   "outputs": [],
   "source": [
    "import pandas as pd\n",
    "import numpy as np"
   ]
  },
  {
   "cell_type": "code",
   "execution_count": 12,
   "id": "04c3e858-159a-4490-9957-90e7ae00b313",
   "metadata": {},
   "outputs": [
    {
     "name": "stdout",
     "output_type": "stream",
     "text": [
      "Sheet1 데이터:\n",
      "        바지락  면  파  다시마  멸치  국간장  진간장  고춧가루  떡  어묵  ...  닭고기  양상추  토마토  체다치즈  \\\n",
      "바지락칼국수    3  3  2    2   1    1    0     1  0   0  ...    0    0    0     0   \n",
      "떡볶이       0  0  0    0   0    1    0     0  3   3  ...    0    0    0     0   \n",
      "해물찜       0  0  0    0   0    1    0     0  0   0  ...    0    0    0     0   \n",
      "초밥        0  0  0    0   0    1    0     0  0   2  ...    0    0    0     0   \n",
      "돈가스       0  0  0    0   0    0    0     0  0   0  ...    0    0    0     0   \n",
      "\n",
      "        모짜렐라치즈  케첩  마요네즈  양배추  참기름  다진마늘  \n",
      "바지락칼국수       0   0     0    0    0     0  \n",
      "떡볶이          0   0     0    0    0     0  \n",
      "해물찜          0   0     0    0    0     0  \n",
      "초밥           0   0     0    0    0     0  \n",
      "돈가스          0   0     0    0    0     0  \n",
      "\n",
      "[5 rows x 51 columns]\n",
      "\n",
      "Sheet2 데이터:\n",
      "       바지락칼국수  떡볶이  해물찜  초밥  돈가스  샤부샤부  김치찌개  고등어구이  햄버거  짜장면  치킨  삼겹살  돼지갈비\n",
      "User1       1    0    0   1    0     0     0      0    1    0   0    0     0\n",
      "User2       0    1    0   1    1     0     1      0    0    0   0    0     0\n",
      "User3       1    1    0   1    0     1     0      0    0    0   0    0     0\n",
      "User4       0    0    1   0    1     1     1      0    0    0   0    0     0\n",
      "User5       1    1    1   1    1     1     0      0    1    1   0    0     0\n"
     ]
    }
   ],
   "source": [
    "excel_file_path = './data/dataTmp.xlsx'\n",
    "\n",
    "# 엑셀 파일의 각 시트를 다른 변수에 저장\n",
    "menu_info = pd.read_excel(excel_file_path, sheet_name='Sheet1', header = 0, index_col = 0)\n",
    "user_info = pd.read_excel(excel_file_path, sheet_name='Sheet2', header = 0, index_col = 0)\n",
    "\n",
    "# 각 시트 데이터 확인\n",
    "print(\"Sheet1 데이터:\")\n",
    "print(menu_info.head())\n",
    "\n",
    "print(\"\\nSheet2 데이터:\")\n",
    "print(user_info.head())"
   ]
  },
  {
   "cell_type": "code",
   "execution_count": 14,
   "id": "f32a6e80-d5c6-4f63-9d18-ed02cfe74ee2",
   "metadata": {},
   "outputs": [],
   "source": [
    "menu_info.arr = menu_info.to_numpy()\n",
    "user_info.arr = user_info.to_numpy()"
   ]
  },
  {
   "cell_type": "code",
   "execution_count": 16,
   "id": "e26bbf95-15fa-44d9-a66d-5ae341619b29",
   "metadata": {},
   "outputs": [
    {
     "data": {
      "text/plain": [
       "array([[1, 0, 0, ..., 0, 0, 0],\n",
       "       [0, 1, 0, ..., 0, 0, 0],\n",
       "       [1, 1, 0, ..., 0, 0, 0],\n",
       "       ...,\n",
       "       [0, 0, 1, ..., 0, 0, 0],\n",
       "       [1, 0, 1, ..., 0, 0, 0],\n",
       "       [1, 0, 1, ..., 0, 0, 0]], dtype=int64)"
      ]
     },
     "execution_count": 16,
     "metadata": {},
     "output_type": "execute_result"
    }
   ],
   "source": [
    "user_info.arr"
   ]
  },
  {
   "cell_type": "code",
   "execution_count": 17,
   "id": "6d9a79a7-a6e6-4910-a42e-79dd04d3938b",
   "metadata": {},
   "outputs": [],
   "source": [
    "# 실제 R 행렬과 예측 행렬의 오차를 구하는 함수\n",
    "def calculate_rmse(R, P, Q, non_zeros):\n",
    "    error = 0\n",
    "\n",
    "    full_pred_matrix = np.dot(P, Q.T)\n",
    "\n",
    "    # 여기서 non_zeros는 아래 함수에서 확인할 수 있다.\n",
    "    x_non_zero_ind = [non_zeros[0] for non_zeros in non_zeros]\n",
    "    y_non_zero_ind = [non_zeros[1] for non_zeros in non_zeros]\n",
    "\n",
    "    # 원 행렬 R에서 0이 아닌 값들만 추출한다.\n",
    "    R_non_zeros = R[x_non_zero_ind, y_non_zero_ind]\n",
    "\n",
    "    # 예측 행렬에서 원 행렬 R에서 0이 아닌 위치의 값들만 추출하여 저장한다.\n",
    "    full_pred_matrix_non_zeros = full_pred_matrix[x_non_zero_ind, y_non_zero_ind]\n",
    "\n",
    "    mse = mean_squared_error(R_non_zeros, full_pred_matrix_non_zeros)\n",
    "    rmse = np.sqrt(mse)\n",
    "\n",
    "    return rmse\n",
    "\n",
    "def matrix_factorization(R, K, steps=200, learning_rate=0.01, r_lambda=0.01):\n",
    "    num_users, num_items = R.shape\n",
    "\n",
    "    np.random.seed(1)\n",
    "    P = np.random.normal(scale=1.0/K, size=(num_users, K))\n",
    "    Q = np.random.normal(scale=1.0/K, size=(num_items, K))\n",
    "\n",
    "    # R>0인 행 위치, 열 위치, 값을 non_zeros 리스트에 저장한다.\n",
    "    non_zeros = [ (i, j, R[i, j]) for i in range(num_users)\n",
    "                  for j in range(num_items) if R[i, j] > 0 ]\n",
    "\n",
    "    # SGD 기법으로 P, Q 매트릭스를 업데이트 함\n",
    "    for step in range(steps):\n",
    "        for i, j, r in non_zeros:\n",
    "            # 잔차 구함\n",
    "            eij = r - np.dot(P[i, :], Q[j, :].T)\n",
    "\n",
    "            # Regulation을 반영한 SGD 업데이터 적용\n",
    "            P[i, :] = P[i, :] + learning_rate*(eij * Q[j, :] - r_lambda*P[i, :])\n",
    "            Q[j, :] = Q[j, :] + learning_rate*(eij * P[i, :] - r_lambda*Q[j, :])\n",
    "\n",
    "        rmse = get_rmse(R, P, Q, non_zeros)\n",
    "        if step % 10 == 0:\n",
    "            print(\"iter step: {0}, rmse: {1:4f}\".format(step, rmse))\n",
    "\n",
    "    return P, Q"
   ]
  },
  {
   "cell_type": "code",
   "execution_count": null,
   "id": "9d8148d5-d39f-432c-9a28-6822fbe9740a",
   "metadata": {},
   "outputs": [],
   "source": [
    "P, Q = matrix_factorization(R, K=3)"
   ]
  }
 ],
 "metadata": {
  "kernelspec": {
   "display_name": "Python 3 (ipykernel)",
   "language": "python",
   "name": "python3"
  },
  "language_info": {
   "codemirror_mode": {
    "name": "ipython",
    "version": 3
   },
   "file_extension": ".py",
   "mimetype": "text/x-python",
   "name": "python",
   "nbconvert_exporter": "python",
   "pygments_lexer": "ipython3",
   "version": "3.11.8"
  }
 },
 "nbformat": 4,
 "nbformat_minor": 5
}
