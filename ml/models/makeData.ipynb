{
 "cells": [
  {
   "cell_type": "code",
   "execution_count": 3,
   "id": "d445002b-4088-42ec-953f-7f5a1b515527",
   "metadata": {},
   "outputs": [],
   "source": [
    "import pandas as pd\n",
    "import numpy as np\n",
    "import pymysql"
   ]
  },
  {
   "cell_type": "code",
   "execution_count": 5,
   "id": "ad0e7858-46b5-4328-ba13-01d7eb6f5304",
   "metadata": {},
   "outputs": [],
   "source": [
    "import os\n",
    "from dotenv import load_dotenv\n",
    "load_dotenv()\n",
    "\n",
    "global db\n",
    "global cursor\n",
    "\n",
    "db = pymysql.connect(\n",
    "    host=\"localhost\", \n",
    "    port=3306, \n",
    "    user=\"dokebi\", \n",
    "    passwd=\"dokebi@@1234\", \n",
    "    db=\"dokebi\", \n",
    "    charset='utf8'\n",
    ")\n",
    "\n",
    "cursor = db.cursor()"
   ]
  },
  {
   "cell_type": "code",
   "execution_count": null,
   "id": "8e72d62b-215a-4d32-969a-64aaa6627f7c",
   "metadata": {},
   "outputs": [],
   "source": []
  },
  {
   "cell_type": "code",
   "execution_count": 6,
   "id": "9b217273-318e-4a17-a310-3394ef9ae346",
   "metadata": {},
   "outputs": [],
   "source": [
    "excel_file_path = './data/dataTmp.xlsx'\n",
    "\n",
    "# 엑셀 파일의 각 시트를 다른 변수에 저장\n",
    "menu_info = pd.read_excel(excel_file_path, sheet_name='Sheet1', header = 0, index_col = 0)\n",
    "user_info = pd.read_excel(excel_file_path, sheet_name='Sheet2', header = 0, index_col = 0)\n"
   ]
  },
  {
   "cell_type": "code",
   "execution_count": 7,
   "id": "2ea29a16-f2dc-4e74-85f0-c3523355014d",
   "metadata": {},
   "outputs": [
    {
     "name": "stdout",
     "output_type": "stream",
     "text": [
      "         바지락  면  파  다시마  멸치  국간장  진간장  고춧가루  떡  어묵  ...  양상추  토마토  체다치즈  \\\n",
      "바지락칼국수     3  3  2    2   1    1    0     1  0   0  ...    0    0     0   \n",
      "떡볶이        0  0  0    0   0    1    0     0  3   3  ...    0    0     0   \n",
      "해물찜        0  0  0    0   0    1    0     0  0   0  ...    0    0     0   \n",
      "초밥         0  0  0    0   0    1    0     0  0   2  ...    0    0     0   \n",
      "돈가스        0  0  0    0   0    0    0     0  0   0  ...    0    0     0   \n",
      "샤브샤브       0  0  0    0   0    1    0     0  0   0  ...    0    0     0   \n",
      "김치찌개       0  0  0    0   0    1    0     1  0   0  ...    0    0     0   \n",
      "고등어구이      0  0  0    0   0    0    1     0  0   0  ...    0    0     0   \n",
      "햄버거        0  0  0    0   0    0    0     0  0   0  ...    2    2     2   \n",
      "짜장면        0  3  0    0   0    0    1     0  0   0  ...    0    0     0   \n",
      "치킨         0  3  0    0   0    0    1     1  0   0  ...    0    0     0   \n",
      "삼겹살        0  0  0    0   0    0    1     1  0   0  ...    0    0     0   \n",
      "돼지갈비       0  0  0    0   0    0    1     1  0   0  ...    0    0     0   \n",
      "어쨌든해물음식    0  0  0    0   0    1    0     0  0   0  ...    0    0     0   \n",
      "\n",
      "         모짜렐라치즈  케첩  마요네즈  양배추  참기름  다진마늘  해물  \n",
      "바지락칼국수        0   0     0    0    0     0   3  \n",
      "떡볶이           0   0     0    0    0     0   0  \n",
      "해물찜           0   0     0    0    0     0   3  \n",
      "초밥            0   0     0    0    0     0   3  \n",
      "돈가스           0   0     0    0    0     0   0  \n",
      "샤브샤브          0   0     0    0    0     0   2  \n",
      "김치찌개          0   0     0    0    0     0   0  \n",
      "고등어구이         0   0     0    0    0     0   3  \n",
      "햄버거           0   1     1    0    0     0   0  \n",
      "짜장면           0   0     0    2    0     0   0  \n",
      "치킨            0   0     0    0    0     1   0  \n",
      "삼겹살           0   0     0    0    1     1   0  \n",
      "돼지갈비          0   0     0    0    0     1   0  \n",
      "어쨌든해물음식       0   0     0    0    0     0   3  \n",
      "\n",
      "[14 rows x 52 columns]\n"
     ]
    }
   ],
   "source": [
    "print(menu_info)"
   ]
  },
  {
   "cell_type": "code",
   "execution_count": null,
   "id": "ab07fafb-6c00-4ef5-8d58-3d3da7ba8ac5",
   "metadata": {},
   "outputs": [],
   "source": [
    "cursor.execute(\"SELECT * FROM mi\")\n",
    "rslt = cursor.fetchall()\n",
    "for row in rslt:\n",
    "    print(row)"
   ]
  },
  {
   "cell_type": "code",
   "execution_count": null,
   "id": "e5da5ec7-64ae-43c7-bb8e-b31fc88ee853",
   "metadata": {},
   "outputs": [],
   "source": [
    "# 재료 더미 데이터 추가\n",
    "id = 1\n",
    "for i in menu_info.columns:\n",
    "    cursor.execute(\"INSERT INTO mi (mi_id, mi_name) VALUES (%s, %s)\", (id,i))\n",
    "    id += 1"
   ]
  },
  {
   "cell_type": "code",
   "execution_count": null,
   "id": "b155c331-d415-43e0-8744-bbdcb51f759a",
   "metadata": {},
   "outputs": [],
   "source": [
    "cursor.execute(\"SELECT * FROM recipe\")\n",
    "rslt = cursor.fetchall()\n",
    "for row in rslt:\n",
    "    print(row)"
   ]
  },
  {
   "cell_type": "code",
   "execution_count": null,
   "id": "93a56b8c-89c4-4d87-b7a2-f695315a0760",
   "metadata": {},
   "outputs": [],
   "source": [
    "# 조리법 데이터 추가\n",
    "idx = 1\n",
    "for row in range(0, menu_info.shape[0]):\n",
    "    for col in range(0, menu_info.shape[1]):\n",
    "        if menu_info.iloc[row,col] == 1:\n",
    "            cursor.execute(\"INSERT INTO recipe (recipe_id, menu_id, mi_id) VALUE ( %s, %s, %s )\", ( idx, row+1, col+1 ))\n",
    "            idx += 1"
   ]
  },
  {
   "cell_type": "code",
   "execution_count": null,
   "id": "02323731-3139-4444-997a-5d7c041e993b",
   "metadata": {},
   "outputs": [],
   "source": [
    "idx = 2\n",
    "flag = 0\n",
    "for row in menu_info.index:\n",
    "    if(idx > 6):\n",
    "        cursor.execute(\"INSERT INTO menu VALUE (%s, %s, %s, %s)\",(idx, row, 1, idx%6+1))\n",
    "    idx += 1\n",
    "\n",
    "cursor.execute(\"SELECT * FROM menu\")\n",
    "rslt = cursor.fetchall()\n",
    "for row in rslt:\n",
    "    print(row)"
   ]
  },
  {
   "cell_type": "code",
   "execution_count": null,
   "id": "480db484-34da-4332-8078-169ec1a137be",
   "metadata": {},
   "outputs": [],
   "source": [
    "cursor.execute(\"SELECT * FROM menu\")\n",
    "rslt = cursor.fetchall()\n",
    "for row in rslt:\n",
    "    print(row)"
   ]
  },
  {
   "cell_type": "code",
   "execution_count": null,
   "id": "ed641673-e57f-43ce-96c5-925b3f07320a",
   "metadata": {},
   "outputs": [],
   "source": [
    "db.commit()"
   ]
  },
  {
   "cell_type": "code",
   "execution_count": null,
   "id": "93708fcd-90ac-4e72-a618-5e1339929aa5",
   "metadata": {},
   "outputs": [],
   "source": [
    "db.close()"
   ]
  }
 ],
 "metadata": {
  "kernelspec": {
   "display_name": "Python 3 (ipykernel)",
   "language": "python",
   "name": "python3"
  },
  "language_info": {
   "codemirror_mode": {
    "name": "ipython",
    "version": 3
   },
   "file_extension": ".py",
   "mimetype": "text/x-python",
   "name": "python",
   "nbconvert_exporter": "python",
   "pygments_lexer": "ipython3",
   "version": "3.11.8"
  }
 },
 "nbformat": 4,
 "nbformat_minor": 5
}
