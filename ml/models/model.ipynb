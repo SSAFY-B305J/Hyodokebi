{
 "cells": [
  {
   "cell_type": "code",
   "execution_count": 1,
   "id": "4374471f-08d5-452e-a356-c254256f10b2",
   "metadata": {},
   "outputs": [],
   "source": [
    "import pandas as pd\n",
    "import numpy as np\n",
    "from sklearn.metrics import mean_squared_error\n",
    "import pymysql"
   ]
  },
  {
   "cell_type": "code",
   "execution_count": null,
   "id": "ed3e54fe-b80a-4d7b-9c1f-daded73ddb30",
   "metadata": {},
   "outputs": [],
   "source": []
  },
  {
   "cell_type": "markdown",
   "id": "79a155aa-4db1-4e9e-bd13-4d47a979721e",
   "metadata": {},
   "source": [
    "# DB 연결"
   ]
  },
  {
   "cell_type": "code",
   "execution_count": 2,
   "id": "e7241272-37a3-4447-9e0b-1b6912e733ab",
   "metadata": {},
   "outputs": [],
   "source": [
    "# import os\n",
    "# from dotenv import load_dotenv\n",
    "# load_dotenv()\n",
    "\n",
    "# global db\n",
    "# global cursor\n",
    "\n",
    "# db = pymysql.connect(\n",
    "#     host=os.getenv(\"MYSQL_HOST\"), \n",
    "#     port=3306, \n",
    "#     user=os.getenv(\"MYSQL_USER\"), \n",
    "#     passwd=os.getenv(\"MYSQL_PASSWORD\"), \n",
    "#     db=os.getenv(\"MYSQL_DB\"), \n",
    "#     charset='utf8'\n",
    "# )\n",
    "\n",
    "# cursor = db.cursor()"
   ]
  },
  {
   "cell_type": "code",
   "execution_count": 3,
   "id": "c538a50c-465d-4826-a4d5-6c8a2f265702",
   "metadata": {},
   "outputs": [],
   "source": [
    "# 훈련에 사용될 함수"
   ]
  },
  {
   "cell_type": "code",
   "execution_count": 4,
   "id": "d6716348-bddb-4bf6-a846-154b65ae446d",
   "metadata": {},
   "outputs": [],
   "source": [
    "# 실제 R 행렬과 예측 행렬의 오차를 구하는 함수\n",
    "def calculate_rmse(R, P, Q, non_zeros):\n",
    "    error = 0\n",
    "\n",
    "    full_pred_matrix = np.dot(P, Q.T)\n",
    "\n",
    "    # 여기서 non_zeros는 아래 함수에서 확인할 수 있다.\n",
    "    x_non_zero_ind = [non_zeros[0] for non_zeros in non_zeros]\n",
    "    y_non_zero_ind = [non_zeros[1] for non_zeros in non_zeros]\n",
    "\n",
    "    # 원 행렬 R에서 0이 아닌 값들만 추출한다.\n",
    "    R_non_zeros = R[x_non_zero_ind, y_non_zero_ind]\n",
    "\n",
    "    # 예측 행렬에서 원 행렬 R에서 0이 아닌 위치의 값들만 추출하여 저장한다.\n",
    "    full_pred_matrix_non_zeros = full_pred_matrix[x_non_zero_ind, y_non_zero_ind]\n",
    "\n",
    "    mse = mean_squared_error(R_non_zeros, full_pred_matrix_non_zeros)\n",
    "    rmse = np.sqrt(mse)\n",
    "\n",
    "    return rmse\n",
    "\n",
    "# 행렬분해하는 함수\n",
    "def matrix_factorization(R, K, steps=200, learning_rate=0.01, r_lambda=0.01):\n",
    "    num_users, num_items = R.shape\n",
    "\n",
    "    np.random.seed(1)\n",
    "    P = np.random.normal(scale=1.0/K, size=(num_users, K))\n",
    "    Q = np.random.normal(scale=1.0/K, size=(num_items, K))\n",
    "    \n",
    "    # R>0인 행 위치, 열 위치, 값을 non_zeros 리스트에 저장한다.\n",
    "    non_zeros = [ (i, j, R[i, j]) for i in range(num_users)\n",
    "                  for j in range(num_items) if R[i, j] > 0 ]\n",
    "\n",
    "    # SGD 기법으로 P, Q 매트릭스를 업데이트 함\n",
    "    for step in range(steps):\n",
    "        for i, j, r in non_zeros:\n",
    "            # 잔차 구함\n",
    "            eij = r - np.dot(P[i, :], Q[j, :].T)\n",
    "\n",
    "            # Regulation을 반영한 SGD 업데이터 적용\n",
    "            P[i, :] = P[i, :] + learning_rate*(eij * Q[j, :] - r_lambda*P[i, :])\n",
    "            Q[j, :] = Q[j, :] + learning_rate*(eij * P[i, :] - r_lambda*Q[j, :])\n",
    "\n",
    "        rmse = calculate_rmse(R, P, Q, non_zeros)\n",
    "        if step % 10 == 0:\n",
    "            print(\"iter step: {0}, rmse: {1:4f}\".format(step, rmse))\n",
    "\n",
    "    return P, Q\n",
    "\n",
    "# 예측 확률 구하기\n",
    "def predict(P, Q):\n",
    "    return np.dot(P, Q.T)"
   ]
  },
  {
   "cell_type": "code",
   "execution_count": null,
   "id": "b3ef1a95-7917-4d99-b9e2-dcdbe26ce7e4",
   "metadata": {},
   "outputs": [],
   "source": []
  },
  {
   "cell_type": "markdown",
   "id": "1701f799-f2fc-4cb2-a7b5-e5507ef416b8",
   "metadata": {},
   "source": [
    "# 서비스에 사용할 함수"
   ]
  },
  {
   "cell_type": "code",
   "execution_count": null,
   "id": "e9b3441a-8232-4790-9379-5723b83abeb5",
   "metadata": {},
   "outputs": [],
   "source": []
  },
  {
   "cell_type": "markdown",
   "id": "ebc89a75-026a-44b1-81e3-52c25777dd88",
   "metadata": {},
   "source": [
    "### 서버가 시작될 때 기본으로 실행될 함수"
   ]
  },
  {
   "cell_type": "code",
   "execution_count": 5,
   "id": "78ae3d72-4f90-4d9d-ae87-bd7cac9c73e0",
   "metadata": {},
   "outputs": [],
   "source": [
    "excel_file_path = './data/dataTmp.xlsx'\n",
    "\n",
    "# 엑셀 파일의 각 시트를 다른 변수에 저장\n",
    "menu_info = pd.read_excel(excel_file_path, sheet_name='Sheet1', header = 0, index_col = 0)\n",
    "user_info = pd.read_excel(excel_file_path, sheet_name='Sheet2', header = 0, index_col = 0)\n"
   ]
  },
  {
   "cell_type": "code",
   "execution_count": null,
   "id": "df9d10c0-3ea5-4b8a-9f99-df11de775f3f",
   "metadata": {},
   "outputs": [],
   "source": [
    "# db 사용자 추가하면 지우기\n",
    "user_igd_info = pd.DataFrame(0, index=[f\"User{i+1}\" for i in range(0, user_info.shape[0])], columns=[f\"{i}\" for i in menu_info.columns])\n",
    "for row in range(0,user_info.shape[0]):\n",
    "    for col in range(0, user_info.shape[1]):\n",
    "        if user_info.iloc[row,col] > 0:\n",
    "            for igdIdx in range(0, menu_info.shape[1]):\n",
    "                if menu_info.iloc[col,igdIdx] > 0:\n",
    "                    user_igd_info.iloc[row, igdIdx] += menu_info.iloc[col,igdIdx]"
   ]
  },
  {
   "cell_type": "code",
   "execution_count": 6,
   "id": "e812ef8a-b397-4384-bb63-1d12785070ab",
   "metadata": {},
   "outputs": [],
   "source": [
    "# def makeDefaultDataSet():\n",
    "#     # 메뉴 데이터 가져오기\n",
    "#     cursor.execute(\"SELECT * FROM menu\")\n",
    "#     menu_info = cursor.fetchall()\n",
    "\n",
    "#     # 재료 데이터 가져오기\n",
    "#     cursor.execute(\"SELECT * FROM mi\")\n",
    "#     igd_info = cursor.fetchall()\n",
    "    \n",
    "#     # 조리법 데이터 가져오기\n",
    "#     cursor.execute(\"SELECT * from wtc\")\n",
    "#     wtc_info = cursor.fetchall()\n",
    "    \n",
    "#     # 다 합치기\n",
    "#     menu_data = pd.DataFrame()\n",
    "#     for row in menuInfo:\n",
    "#\n",
    "#\n",
    "#     user_igd_info = pd.DataFrame(0, index = [vip_id for vip_id in menu_data.index], columns = [ menu_id for menu_data.columns ])\n",
    "#     return user_igd_info, menu_info\n",
    "\n",
    "# 선호확률 학습하기\n",
    "def menu_training(user_igd_info, K,learning_rate = 0.01, steps = 500 ):\n",
    "    user_igd_data = user_igd_info.to_numpy()\n",
    "    user_igd_data *= 0.1\n",
    "    P, Q = matrix_factorization(user_igd_data, K, learning_rate = 0.01, steps = 500 )\n",
    "    predicted_R = predict(P,Q)\n",
    "    return predicted_R\n"
   ]
  },
  {
   "cell_type": "markdown",
   "id": "fc27d60d-9b10-47d6-a971-6a767cffe3aa",
   "metadata": {},
   "source": [
    "### 추천할 때 사용될 함수"
   ]
  },
  {
   "cell_type": "code",
   "execution_count": 7,
   "id": "9c11dbfe-d389-4893-b22d-591e5650145b",
   "metadata": {},
   "outputs": [],
   "source": [
    "# 데이터 수정하기\n",
    "def updateDataSet(user_igd_info, vip_id, menu_ids):\n",
    "    user_igd_info_tmp = user_igd_info.copy()\n",
    "    for menu_id in menuIds:\n",
    "        user_igd_info_tmp.iloc[vip_id-1, menu_id] += 2\n",
    "    return user_igd_info_tmp\n",
    "\n",
    "# 에측결과를 토대로 메뉴 선택하기\n",
    "# model_prac.ipynb -> predicted_menu_V4\n",
    "def predicted_menu(predicted, userNo, nMenu):\n",
    "    \n",
    "    menu_data = menu_info.to_numpy()\n",
    "    user_like_igd = predicted[userNo-1].copy();\n",
    "    predicted_name = []\n",
    "\n",
    "    user_like_menu = predict(user_like_igd, menu_data*0.1)\n",
    "\n",
    "    for i in range(0,nMenu):\n",
    "        max_idx = np.argmax(user_like_menu)\n",
    "        if user_like_menu[max_idx] < 0 or user_like_menu[max_idx] == 0 : break\n",
    "        predicted_name += [user_info.columns[max_idx]]\n",
    "        user_like_menu[max_idx] = 0\n",
    "    return predicted_name"
   ]
  },
  {
   "cell_type": "code",
   "execution_count": null,
   "id": "5b24ae48-9e41-47b7-9b8b-c48cebc7d50c",
   "metadata": {},
   "outputs": [],
   "source": []
  },
  {
   "cell_type": "code",
   "execution_count": 9,
   "id": "62b83e8b-c3fa-4fe7-87cb-4a1b3b590f8a",
   "metadata": {},
   "outputs": [
    {
     "name": "stderr",
     "output_type": "stream",
     "text": [
      "[NbConvertApp] Converting notebook model.ipynb to script\n",
      "[NbConvertApp] Writing 4790 bytes to model.py\n"
     ]
    }
   ],
   "source": [
    "# !jupyter nbconvert --to script model.ipynb"
   ]
  }
 ],
 "metadata": {
  "kernelspec": {
   "display_name": "Python 3 (ipykernel)",
   "language": "python",
   "name": "python3"
  },
  "language_info": {
   "codemirror_mode": {
    "name": "ipython",
    "version": 3
   },
   "file_extension": ".py",
   "mimetype": "text/x-python",
   "name": "python",
   "nbconvert_exporter": "python",
   "pygments_lexer": "ipython3",
   "version": "3.11.8"
  }
 },
 "nbformat": 4,
 "nbformat_minor": 5
}
