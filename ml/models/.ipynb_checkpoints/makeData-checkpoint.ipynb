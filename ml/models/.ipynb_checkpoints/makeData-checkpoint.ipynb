{
 "cells": [
  {
   "cell_type": "code",
   "execution_count": 1,
   "id": "d445002b-4088-42ec-953f-7f5a1b515527",
   "metadata": {},
   "outputs": [],
   "source": [
    "import pandas as pd\n",
    "import numpy as np"
   ]
  },
  {
   "cell_type": "code",
   "execution_count": null,
   "id": "ad0e7858-46b5-4328-ba13-01d7eb6f5304",
   "metadata": {},
   "outputs": [],
   "source": []
  },
  {
   "cell_type": "code",
   "execution_count": 2,
   "id": "9b217273-318e-4a17-a310-3394ef9ae346",
   "metadata": {},
   "outputs": [],
   "source": [
    "excel_file_path = './data/dataTmp.xlsx'\n",
    "\n",
    "# 엑셀 파일의 각 시트를 다른 변수에 저장\n",
    "menu_info = pd.read_excel(excel_file_path, sheet_name='Sheet1', header = 0, index_col = 0)\n",
    "user_info = pd.read_excel(excel_file_path, sheet_name='Sheet2', header = 0, index_col = 0)\n"
   ]
  },
  {
   "cell_type": "code",
   "execution_count": 3,
   "id": "2ea29a16-f2dc-4e74-85f0-c3523355014d",
   "metadata": {},
   "outputs": [
    {
     "name": "stdout",
     "output_type": "stream",
     "text": [
      "         바지락  면  파  다시마  멸치  국간장  진간장  고춧가루  떡  어묵  ...  양상추  토마토  체다치즈  \\\n",
      "바지락칼국수     3  3  2    2   1    1    0     1  0   0  ...    0    0     0   \n",
      "떡볶이        0  0  0    0   0    1    0     0  3   3  ...    0    0     0   \n",
      "해물찜        0  0  0    0   0    1    0     0  0   0  ...    0    0     0   \n",
      "초밥         0  0  0    0   0    1    0     0  0   2  ...    0    0     0   \n",
      "돈가스        0  0  0    0   0    0    0     0  0   0  ...    0    0     0   \n",
      "샤브샤브       0  0  0    0   0    1    0     0  0   0  ...    0    0     0   \n",
      "김치찌개       0  0  0    0   0    1    0     1  0   0  ...    0    0     0   \n",
      "고등어구이      0  0  0    0   0    0    1     0  0   0  ...    0    0     0   \n",
      "햄버거        0  0  0    0   0    0    0     0  0   0  ...    2    2     2   \n",
      "짜장면        0  3  0    0   0    0    1     0  0   0  ...    0    0     0   \n",
      "치킨         0  3  0    0   0    0    1     1  0   0  ...    0    0     0   \n",
      "삼겹살        0  0  0    0   0    0    1     1  0   0  ...    0    0     0   \n",
      "돼지갈비       0  0  0    0   0    0    1     1  0   0  ...    0    0     0   \n",
      "어쨌든해물음식    0  0  0    0   0    1    0     0  0   0  ...    0    0     0   \n",
      "\n",
      "         모짜렐라치즈  케첩  마요네즈  양배추  참기름  다진마늘  해물  \n",
      "바지락칼국수        0   0     0    0    0     0   3  \n",
      "떡볶이           0   0     0    0    0     0   0  \n",
      "해물찜           0   0     0    0    0     0   3  \n",
      "초밥            0   0     0    0    0     0   3  \n",
      "돈가스           0   0     0    0    0     0   0  \n",
      "샤브샤브          0   0     0    0    0     0   2  \n",
      "김치찌개          0   0     0    0    0     0   0  \n",
      "고등어구이         0   0     0    0    0     0   3  \n",
      "햄버거           0   1     1    0    0     0   0  \n",
      "짜장면           0   0     0    2    0     0   0  \n",
      "치킨            0   0     0    0    0     1   0  \n",
      "삼겹살           0   0     0    0    1     1   0  \n",
      "돼지갈비          0   0     0    0    0     1   0  \n",
      "어쨌든해물음식       0   0     0    0    0     0   3  \n",
      "\n",
      "[14 rows x 52 columns]\n"
     ]
    }
   ],
   "source": [
    "print(menu_info)"
   ]
  }
 ],
 "metadata": {
  "kernelspec": {
   "display_name": "Python 3 (ipykernel)",
   "language": "python",
   "name": "python3"
  },
  "language_info": {
   "codemirror_mode": {
    "name": "ipython",
    "version": 3
   },
   "file_extension": ".py",
   "mimetype": "text/x-python",
   "name": "python",
   "nbconvert_exporter": "python",
   "pygments_lexer": "ipython3",
   "version": "3.11.8"
  }
 },
 "nbformat": 4,
 "nbformat_minor": 5
}
