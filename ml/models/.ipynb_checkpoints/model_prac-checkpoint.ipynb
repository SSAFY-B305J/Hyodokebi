{
 "cells": [
  {
   "cell_type": "code",
   "execution_count": 1,
   "id": "be570875-a8f0-4514-9b5f-7b7928274cd2",
   "metadata": {},
   "outputs": [],
   "source": [
    "import pandas as pd\n",
    "import numpy as np\n",
    "from sklearn.metrics import mean_squared_error"
   ]
  },
  {
   "cell_type": "code",
   "execution_count": 2,
   "id": "04c3e858-159a-4490-9957-90e7ae00b313",
   "metadata": {},
   "outputs": [],
   "source": [
    "excel_file_path = './data/dataTmp.xlsx'\n",
    "\n",
    "# 엑셀 파일의 각 시트를 다른 변수에 저장\n",
    "menu_info = pd.read_excel(excel_file_path, sheet_name='Sheet1', header = 0, index_col = 0)\n",
    "user_info = pd.read_excel(excel_file_path, sheet_name='Sheet2', header = 0, index_col = 0)\n",
    "\n",
    "# 각 시트 데이터 확인\n",
    "# print(\"Sheet1 데이터:\")\n",
    "# print(menu_info.head())\n",
    "\n",
    "# print(\"\\nSheet2 데이터:\")\n",
    "# print(user_info.head())"
   ]
  },
  {
   "cell_type": "code",
   "execution_count": 3,
   "id": "ac680113-ebb7-4308-9bd2-cdc748878cde",
   "metadata": {},
   "outputs": [],
   "source": [
    "# print제한 없애기\n",
    "pd.set_option('display.max_seq_items', None)\n",
    "pd.set_option('display.max_rows', None)\n",
    "pd.set_option('display.max_columns', None)"
   ]
  },
  {
   "cell_type": "code",
   "execution_count": 4,
   "id": "f32a6e80-d5c6-4f63-9d18-ed02cfe74ee2",
   "metadata": {},
   "outputs": [
    {
     "name": "stderr",
     "output_type": "stream",
     "text": [
      "C:\\Users\\SSAFY\\AppData\\Local\\Temp\\ipykernel_14456\\3710745642.py:1: UserWarning: Pandas doesn't allow columns to be created via a new attribute name - see https://pandas.pydata.org/pandas-docs/stable/indexing.html#attribute-access\n",
      "  user_info.arr = user_info.to_numpy()\n"
     ]
    }
   ],
   "source": [
    "# 사용자 - 메뉴 정보가 저장된 데이터프레임 배열로 바꾸기\n",
    "user_info.arr = user_info.to_numpy()"
   ]
  },
  {
   "cell_type": "code",
   "execution_count": 52,
   "id": "6d9a79a7-a6e6-4910-a42e-79dd04d3938b",
   "metadata": {},
   "outputs": [],
   "source": [
    "# 실제 R 행렬과 예측 행렬의 오차를 구하는 함수\n",
    "def calculate_rmse(R, P, Q, non_zeros):\n",
    "    error = 0\n",
    "\n",
    "    full_pred_matrix = np.dot(P, Q.T)\n",
    "\n",
    "    # 여기서 non_zeros는 아래 함수에서 확인할 수 있다.\n",
    "    x_non_zero_ind = [non_zeros[0] for non_zeros in non_zeros]\n",
    "    y_non_zero_ind = [non_zeros[1] for non_zeros in non_zeros]\n",
    "\n",
    "    # 원 행렬 R에서 0이 아닌 값들만 추출한다.\n",
    "    R_non_zeros = R[x_non_zero_ind, y_non_zero_ind]\n",
    "\n",
    "    # 예측 행렬에서 원 행렬 R에서 0이 아닌 위치의 값들만 추출하여 저장한다.\n",
    "    full_pred_matrix_non_zeros = full_pred_matrix[x_non_zero_ind, y_non_zero_ind]\n",
    "\n",
    "    mse = mean_squared_error(R_non_zeros, full_pred_matrix_non_zeros)\n",
    "    rmse = np.sqrt(mse)\n",
    "\n",
    "    return rmse\n",
    "\n",
    "# 행렬분해하는 함수\n",
    "def matrix_factorization(R, K, steps=200, learning_rate=0.01, r_lambda=0.01):\n",
    "    num_users, num_items = R.shape\n",
    "\n",
    "    np.random.seed(1)\n",
    "    P = np.random.normal(scale=1.0/K, size=(num_users, K))\n",
    "    Q = np.random.normal(scale=1.0/K, size=(num_items, K))\n",
    "\n",
    "    # R>0인 행 위치, 열 위치, 값을 non_zeros 리스트에 저장한다.\n",
    "    non_zeros = [ (i, j, R[i, j]) for i in range(num_users)\n",
    "                  for j in range(num_items) if R[i, j] > 0 ]\n",
    "\n",
    "    # SGD 기법으로 P, Q 매트릭스를 업데이트 함\n",
    "    for step in range(steps):\n",
    "        for i, j, r in non_zeros:\n",
    "            # 잔차 구함\n",
    "            eij = r - np.dot(P[i, :], Q[j, :].T)\n",
    "\n",
    "            # Regulation을 반영한 SGD 업데이터 적용\n",
    "            P[i, :] = P[i, :] + learning_rate*(eij * Q[j, :] - r_lambda*P[i, :])\n",
    "            Q[j, :] = Q[j, :] + learning_rate*(eij * P[i, :] - r_lambda*Q[j, :])\n",
    "\n",
    "        rmse = calculate_rmse(R, P, Q, non_zeros)\n",
    "        if step % 10 == 0:\n",
    "            print(\"iter step: {0}, rmse: {1:4f}\".format(step, rmse))\n",
    "\n",
    "    return P, Q\n",
    "\n",
    "# 예측 확률 구하기\n",
    "def predict(P, Q):\n",
    "    return np.dot(P, Q.T)\n",
    "\n",
    "# 에측결과를 토대로 메뉴 선택하기\n",
    "def predicted_menu(predicted, userNo, nMenu):\n",
    "    user_like_menu = predicted[userNo+1].copy();\n",
    "    predicted_name = []\n",
    "    print(user_like_menu)\n",
    "    for i in range(0,nMenu):\n",
    "        max_idx = np.argmax(user_like_menu)\n",
    "        if user_like_menu[max_idx] < 0 or user_like_menu[max_idx] == 0 : break\n",
    "        predicted_name += [user_info.columns[max_idx]]\n",
    "        print(i, \" : \", user_info.columns[max_idx])\n",
    "        user_like_menu[max_idx] = 0\n",
    "    return predicted_name"
   ]
  },
  {
   "cell_type": "code",
   "execution_count": null,
   "id": "df9e85b6-82a5-4061-ba76-49bfbec75693",
   "metadata": {},
   "outputs": [],
   "source": []
  },
  {
   "cell_type": "code",
   "execution_count": null,
   "id": "0aec96b9-0cd1-4410-80b4-f72011e4af40",
   "metadata": {},
   "outputs": [],
   "source": [
    "### 사용자 - 선호메뉴 데이터를 통한 매뉴 추천"
   ]
  },
  {
   "cell_type": "code",
   "execution_count": null,
   "id": "d3a60922-ffc2-4ab1-915e-cf8ec8587c2e",
   "metadata": {},
   "outputs": [],
   "source": []
  },
  {
   "cell_type": "code",
   "execution_count": 50,
   "id": "9d8148d5-d39f-432c-9a28-6822fbe9740a",
   "metadata": {},
   "outputs": [
    {
     "name": "stdout",
     "output_type": "stream",
     "text": [
      "iter step: 0, rmse: 0.998303\n",
      "iter step: 10, rmse: 0.971326\n",
      "iter step: 20, rmse: 0.765388\n",
      "iter step: 30, rmse: 0.313545\n",
      "iter step: 40, rmse: 0.120905\n",
      "iter step: 50, rmse: 0.058427\n",
      "iter step: 60, rmse: 0.039582\n",
      "iter step: 70, rmse: 0.033468\n",
      "iter step: 80, rmse: 0.030702\n",
      "iter step: 90, rmse: 0.028948\n",
      "iter step: 100, rmse: 0.027604\n",
      "iter step: 110, rmse: 0.026482\n",
      "iter step: 120, rmse: 0.025508\n",
      "iter step: 130, rmse: 0.024647\n",
      "iter step: 140, rmse: 0.023877\n",
      "iter step: 150, rmse: 0.023182\n",
      "iter step: 160, rmse: 0.022553\n",
      "iter step: 170, rmse: 0.021978\n",
      "iter step: 180, rmse: 0.021452\n",
      "iter step: 190, rmse: 0.020968\n"
     ]
    }
   ],
   "source": [
    "P, Q = matrix_factorization(user_info.arr, K=15)\n",
    "predicted_R = predict(P,Q)"
   ]
  },
  {
   "cell_type": "code",
   "execution_count": 61,
   "id": "d504ef02-864c-4813-a932-845f0ba78472",
   "metadata": {},
   "outputs": [
    {
     "name": "stdout",
     "output_type": "stream",
     "text": [
      "[0.97507876 0.88794287 0.96227259 0.98548998 0.98205794 0.94836942\n",
      " 0.91587888 0.86406095 0.97998153 0.98814386 0.02069394 0.07562283\n",
      " 0.028654  ]\n",
      "0  :  짜장면\n",
      "1  :  초밥\n",
      "2  :  돈가스\n",
      "3  :  햄버거\n",
      "4  :  바지락칼국수\n",
      "5  :  해물찜\n",
      "6  :  샤부샤부\n",
      "7  :  김치찌개\n",
      "8  :  떡볶이\n",
      "9  :  고등어구이\n",
      "['짜장면', '초밥', '돈가스', '햄버거', '바지락칼국수', '해물찜', '샤부샤부', '김치찌개', '떡볶이', '고등어구이']\n"
     ]
    }
   ],
   "source": [
    "predict_menu = predicted_menu(predicted_R, 10, 10)\n",
    "print(predict_menu)"
   ]
  },
  {
   "cell_type": "code",
   "execution_count": 60,
   "id": "9e21b849-0044-42c9-95ca-a14abee1af8f",
   "metadata": {},
   "outputs": [
    {
     "name": "stdout",
     "output_type": "stream",
     "text": [
      "해물찜\n",
      "돈가스\n",
      "샤부샤부\n",
      "햄버거\n",
      "짜장면\n"
     ]
    }
   ],
   "source": [
    "for i in range(0, user_info.shape[1]):\n",
    "    if user_info.iloc[9,i] == 1 :\n",
    "        print(user_info.columns[i])"
   ]
  },
  {
   "cell_type": "code",
   "execution_count": null,
   "id": "3cc86223-e3bb-43aa-a723-57003269dc71",
   "metadata": {},
   "outputs": [],
   "source": []
  },
  {
   "cell_type": "code",
   "execution_count": null,
   "id": "15d2383f-11ae-412d-b74e-71208bea7995",
   "metadata": {},
   "outputs": [],
   "source": []
  }
 ],
 "metadata": {
  "kernelspec": {
   "display_name": "Python 3 (ipykernel)",
   "language": "python",
   "name": "python3"
  },
  "language_info": {
   "codemirror_mode": {
    "name": "ipython",
    "version": 3
   },
   "file_extension": ".py",
   "mimetype": "text/x-python",
   "name": "python",
   "nbconvert_exporter": "python",
   "pygments_lexer": "ipython3",
   "version": "3.11.8"
  }
 },
 "nbformat": 4,
 "nbformat_minor": 5
}
